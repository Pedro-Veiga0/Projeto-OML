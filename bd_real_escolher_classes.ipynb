{
 "cells": [
  {
   "cell_type": "code",
   "execution_count": 16,
   "id": "e437bc90",
   "metadata": {},
   "outputs": [],
   "source": [
    "import numpy as np\n",
    "from CLog_MC_OvO import CLog_OVO\n",
    "from utils import plot_decision_boundary\n",
    "import matplotlib.pyplot as plt\n",
    "import seaborn as sns\n",
    "import pandas as pd\n",
    "from sklearn.datasets import load_digits\n",
    "from sklearn.model_selection import train_test_split\n",
    "from sklearn.preprocessing import StandardScaler, LabelEncoder\n",
    "from sklearn.model_selection import train_test_split\n",
    "from sklearn.metrics import classification_report, accuracy_score, confusion_matrix"
   ]
  },
  {
   "cell_type": "markdown",
   "id": "05460e15",
   "metadata": {},
   "source": [
    "# Dataset Digits"
   ]
  },
  {
   "cell_type": "code",
   "execution_count": 17,
   "id": "01d483ff",
   "metadata": {},
   "outputs": [],
   "source": [
    "#Load \n",
    "digits = load_digits()\n",
    "X, y = digits.data, digits.target\n",
    "\n",
    "#Normalizar\n",
    "scaler = StandardScaler()\n",
    "X = scaler.fit_transform(X)\n",
    "\n",
    "# Dividir os dados em treino e teste\n",
    "X_train, X_test, y_train, y_test = train_test_split(X, y, test_size=0.2, random_state=4465)"
   ]
  },
  {
   "cell_type": "markdown",
   "id": "ee8f2e5c",
   "metadata": {},
   "source": [
    "# Teste das classes que o modelo mais confunde"
   ]
  },
  {
   "cell_type": "code",
   "execution_count": null,
   "id": "6bbe712c",
   "metadata": {},
   "outputs": [
    {
     "name": "stdout",
     "output_type": "stream",
     "text": [
      "Execução 1/10\n"
     ]
    },
    {
     "name": "stderr",
     "output_type": "stream",
     "text": [
      "Training binary classifiers:   0%|          | 0/45 [00:00<?, ?it/s]c:\\Users\\conta\\Desktop\\Stuff\\Universidade\\OML\\Projeto-OML\\CLogDKPd_MGmB.py:40: RuntimeWarning: overflow encountered in exp\n",
      "  return 1 / (1 + np.exp(-x))\n",
      "Training binary classifiers: 100%|██████████| 45/45 [02:07<00:00,  2.83s/it, Par=8 vs 9]\n"
     ]
    },
    {
     "name": "stdout",
     "output_type": "stream",
     "text": [
      "Execução 2/10\n"
     ]
    },
    {
     "name": "stderr",
     "output_type": "stream",
     "text": [
      "Training binary classifiers:   0%|          | 0/45 [00:00<?, ?it/s]c:\\Users\\conta\\Desktop\\Stuff\\Universidade\\OML\\Projeto-OML\\CLogDKPd_MGmB.py:40: RuntimeWarning: overflow encountered in exp\n",
      "  return 1 / (1 + np.exp(-x))\n",
      "Training binary classifiers: 100%|██████████| 45/45 [01:44<00:00,  2.33s/it, Par=8 vs 9]\n"
     ]
    },
    {
     "name": "stdout",
     "output_type": "stream",
     "text": [
      "Execução 3/10\n"
     ]
    },
    {
     "name": "stderr",
     "output_type": "stream",
     "text": [
      "Training binary classifiers:   0%|          | 0/45 [00:00<?, ?it/s]c:\\Users\\conta\\Desktop\\Stuff\\Universidade\\OML\\Projeto-OML\\CLogDKPd_MGmB.py:40: RuntimeWarning: overflow encountered in exp\n",
      "  return 1 / (1 + np.exp(-x))\n",
      "Training binary classifiers: 100%|██████████| 45/45 [01:37<00:00,  2.17s/it, Par=8 vs 9]\n"
     ]
    },
    {
     "name": "stdout",
     "output_type": "stream",
     "text": [
      "Execução 4/10\n"
     ]
    },
    {
     "name": "stderr",
     "output_type": "stream",
     "text": [
      "Training binary classifiers:   0%|          | 0/45 [00:00<?, ?it/s]c:\\Users\\conta\\Desktop\\Stuff\\Universidade\\OML\\Projeto-OML\\CLogDKPd_MGmB.py:40: RuntimeWarning: overflow encountered in exp\n",
      "  return 1 / (1 + np.exp(-x))\n",
      "Training binary classifiers: 100%|██████████| 45/45 [01:40<00:00,  2.23s/it, Par=8 vs 9]\n"
     ]
    },
    {
     "name": "stdout",
     "output_type": "stream",
     "text": [
      "Execução 5/10\n"
     ]
    },
    {
     "name": "stderr",
     "output_type": "stream",
     "text": [
      "Training binary classifiers:   0%|          | 0/45 [00:00<?, ?it/s]c:\\Users\\conta\\Desktop\\Stuff\\Universidade\\OML\\Projeto-OML\\CLogDKPd_MGmB.py:40: RuntimeWarning: overflow encountered in exp\n",
      "  return 1 / (1 + np.exp(-x))\n",
      "Training binary classifiers: 100%|██████████| 45/45 [01:38<00:00,  2.19s/it, Par=8 vs 9]\n"
     ]
    },
    {
     "name": "stdout",
     "output_type": "stream",
     "text": [
      "Execução 6/10\n"
     ]
    },
    {
     "name": "stderr",
     "output_type": "stream",
     "text": [
      "Training binary classifiers:   0%|          | 0/45 [00:00<?, ?it/s]c:\\Users\\conta\\Desktop\\Stuff\\Universidade\\OML\\Projeto-OML\\CLogDKPd_MGmB.py:40: RuntimeWarning: overflow encountered in exp\n",
      "  return 1 / (1 + np.exp(-x))\n",
      "Training binary classifiers: 100%|██████████| 45/45 [01:41<00:00,  2.25s/it, Par=8 vs 9]\n"
     ]
    },
    {
     "name": "stdout",
     "output_type": "stream",
     "text": [
      "Execução 7/10\n"
     ]
    },
    {
     "name": "stderr",
     "output_type": "stream",
     "text": [
      "Training binary classifiers:   0%|          | 0/45 [00:00<?, ?it/s]c:\\Users\\conta\\Desktop\\Stuff\\Universidade\\OML\\Projeto-OML\\CLogDKPd_MGmB.py:40: RuntimeWarning: overflow encountered in exp\n",
      "  return 1 / (1 + np.exp(-x))\n",
      "Training binary classifiers: 100%|██████████| 45/45 [02:00<00:00,  2.68s/it, Par=8 vs 9]\n"
     ]
    },
    {
     "name": "stdout",
     "output_type": "stream",
     "text": [
      "Execução 8/10\n"
     ]
    },
    {
     "name": "stderr",
     "output_type": "stream",
     "text": [
      "Training binary classifiers:   0%|          | 0/45 [00:00<?, ?it/s]c:\\Users\\conta\\Desktop\\Stuff\\Universidade\\OML\\Projeto-OML\\CLogDKPd_MGmB.py:40: RuntimeWarning: overflow encountered in exp\n",
      "  return 1 / (1 + np.exp(-x))\n",
      "Training binary classifiers: 100%|██████████| 45/45 [01:52<00:00,  2.51s/it, Par=8 vs 9]\n"
     ]
    },
    {
     "name": "stdout",
     "output_type": "stream",
     "text": [
      "Execução 9/10\n"
     ]
    },
    {
     "name": "stderr",
     "output_type": "stream",
     "text": [
      "Training binary classifiers:   0%|          | 0/45 [00:00<?, ?it/s]c:\\Users\\conta\\Desktop\\Stuff\\Universidade\\OML\\Projeto-OML\\CLogDKPd_MGmB.py:40: RuntimeWarning: overflow encountered in exp\n",
      "  return 1 / (1 + np.exp(-x))\n",
      "Training binary classifiers: 100%|██████████| 45/45 [02:01<00:00,  2.69s/it, Par=8 vs 9]\n"
     ]
    },
    {
     "name": "stdout",
     "output_type": "stream",
     "text": [
      "Execução 10/10\n"
     ]
    },
    {
     "name": "stderr",
     "output_type": "stream",
     "text": [
      "Training binary classifiers:   0%|          | 0/45 [00:00<?, ?it/s]c:\\Users\\conta\\Desktop\\Stuff\\Universidade\\OML\\Projeto-OML\\CLogDKPd_MGmB.py:40: RuntimeWarning: overflow encountered in exp\n",
      "  return 1 / (1 + np.exp(-x))\n",
      "Training binary classifiers: 100%|██████████| 45/45 [02:03<00:00,  2.74s/it, Par=8 vs 9]\n"
     ]
    },
    {
     "data": {
      "image/png": "[encoded data removed]",
      "text/plain": [
       "<Figure size 1000x700 with 2 Axes>"
      ]
     },
     "metadata": {},
     "output_type": "display_data"
    },
    {
     "name": "stdout",
     "output_type": "stream",
     "text": [
      "\n",
      "Precisão média global após 10 execuções: 0.9342\n",
      "\n",
      "Precisão média por classe:\n",
      "Classe 8: 78.92% de precisão média\n",
      "Classe 9: 87.78% de precisão média\n",
      "Classe 5: 92.00% de precisão média\n",
      "Classe 7: 93.94% de precisão média\n",
      "Classe 3: 94.38% de precisão média\n",
      "Classe 6: 96.67% de precisão média\n",
      "Classe 4: 97.50% de precisão média\n",
      "Classe 1: 97.94% de precisão média\n",
      "Classe 2: 98.18% de precisão média\n",
      "Classe 0: 99.71% de precisão média\n",
      "\n",
      "Pares de classes mais confundidos:\n",
      "Classe 9 confundida como 3: 30 vezes\n",
      "Classe 8 confundida como 1: 18 vezes\n",
      "Classe 8 confundida como 2: 17 vezes\n",
      "Classe 9 confundida como 7: 13 vezes\n",
      "Classe 3 confundida como 2: 11 vezes\n",
      "Classe 5 confundida como 2: 11 vezes\n",
      "Classe 7 confundida como 4: 11 vezes\n",
      "Classe 8 confundida como 9: 11 vezes\n",
      "Classe 8 confundida como 6: 10 vezes\n",
      "Classe 3 confundida como 1: 9 vezes\n"
     ]
    }
   ],
   "source": [
    "from sklearn.metrics import confusion_matrix, accuracy_score\n",
    "import numpy as np\n",
    "import seaborn as sns\n",
    "import matplotlib.pyplot as plt\n",
    "\n",
    "#Número de execuções\n",
    "n_runs = 10\n",
    "\n",
    "#Iniciar matriz de confusão acumulada\n",
    "labels_sorted = sorted(list(np.unique(y_train)))  #Classes ordenadas\n",
    "num_classes = len(labels_sorted)\n",
    "confusion_sum = np.zeros((num_classes, num_classes), dtype=int)\n",
    "accuracies = []\n",
    "\n",
    "for i in range(n_runs):\n",
    "    print(f\"Execução {i + 1}/{n_runs}\")\n",
    "    \n",
    "    clf = CLog_OVO(n_iter=1000, batch_size=1, kernel=2, step=0.001, mode='dual', iterative=True)\n",
    "    clf.fit(X_train, y_train)\n",
    "    y_pred = clf.predict(X_test)\n",
    "    \n",
    "    acc = accuracy_score(y_test, y_pred)\n",
    "    accuracies.append(acc)\n",
    "    \n",
    "    cm = confusion_matrix(y_test, y_pred, labels=labels_sorted)\n",
    "    confusion_sum += cm\n",
    "\n",
    "#Mostrar matriz de confusão acumulada\n",
    "plt.figure(figsize=(10, 7))\n",
    "sns.heatmap(confusion_sum, annot=True, fmt='d', cmap='Blues',\n",
    "            xticklabels=labels_sorted, yticklabels=labels_sorted)\n",
    "plt.xlabel('Previsto')\n",
    "plt.ylabel('Verdadeiro')\n",
    "plt.title(f'Matriz de Confusão Acumulada após {n_runs} execuções')\n",
    "plt.show()\n",
    "\n",
    "mean_accuracy = np.mean(accuracies)\n",
    "print(f\"\\nPrecisão média global após {n_runs} execuções: {mean_accuracy:.4f}\")\n",
    "\n",
    "#Análise de precisão por classe\n",
    "per_class_acc = []\n",
    "for i in range(num_classes):\n",
    "    total = np.sum(confusion_sum[i, :])\n",
    "    correct = confusion_sum[i, i]\n",
    "    acc = correct / total if total > 0 else 0\n",
    "    per_class_acc.append((labels_sorted[i], acc))\n",
    "\n",
    "per_class_acc.sort(key=lambda x: x[1])\n",
    "print(\"\\nPrecisão média por classe:\")\n",
    "for cls, acc in per_class_acc:\n",
    "    print(f\"Classe {cls}: {acc:.2%} de precisão média\")\n",
    "\n",
    "#Pares mais confundidos\n",
    "confused_pairs = []\n",
    "for i in range(num_classes):\n",
    "    for j in range(num_classes):\n",
    "        if i != j:\n",
    "            confused_pairs.append(((labels_sorted[i], labels_sorted[j]), confusion_sum[i, j]))\n",
    "\n",
    "#Ordenar por maior confusão\n",
    "confused_pairs.sort(key=lambda x: x[1], reverse=True)\n",
    "print(\"\\nPares de classes mais confundidos:\")\n",
    "for (true_cls, pred_cls), count in confused_pairs[:10]:  #Top 5 pares mais confundidos\n",
    "    print(f\"Classe {true_cls} confundida como {pred_cls}: {count} vezes\")\n"
   ]
  },
  {
   "cell_type": "markdown",
   "id": "e2d436e2",
   "metadata": {},
   "source": [
    "# Eliminar e recodificar as classes"
   ]
  },
  {
   "cell_type": "code",
   "execution_count": 37,
   "id": "e7dee1d1",
   "metadata": {},
   "outputs": [
    {
     "name": "stdout",
     "output_type": "stream",
     "text": [
      "Map original -> novo:\n",
      "Classe original 1 -> nova 0\n",
      "Classe original 2 -> nova 1\n",
      "Classe original 3 -> nova 2\n",
      "Classe original 5 -> nova 3\n",
      "Classe original 7 -> nova 4\n",
      "Classe original 8 -> nova 5\n",
      "Classe original 9 -> nova 6\n"
     ]
    }
   ],
   "source": [
    "#Definir classes a remover\n",
    "classes_remover = {0, 4, 6}\n",
    "\n",
    "#Criar máscaras para filtrar\n",
    "mask_train = ~np.isin(y_train, list(classes_remover))\n",
    "mask_test = ~np.isin(y_test, list(classes_remover))\n",
    "\n",
    "#Aplicar filtros\n",
    "X_train_filtrado = X_train[mask_train]\n",
    "y_train_filtrado = y_train[mask_train]\n",
    "X_test_filtrado = X_test[mask_test]\n",
    "y_test_filtrado = y_test[mask_test]\n",
    "\n",
    "#Reindexar com LabelEncoder\n",
    "le = LabelEncoder()\n",
    "y_train_reindexed = le.fit_transform(y_train_filtrado)\n",
    "y_test_reindexed = le.transform(y_test_filtrado)\n",
    "\n",
    "mapa_original_para_novo = {orig: idx for idx, orig in enumerate(le.classes_)}\n",
    "mapa_novo_para_original = {idx: orig for idx, orig in enumerate(le.classes_)}\n",
    "\n",
    "labels_originais = le.classes_\n",
    "\n",
    "print(\"Map original -> novo:\")\n",
    "for k, v in mapa_original_para_novo.items():\n",
    "    print(f\"Classe original {k} -> nova {v}\")"
   ]
  },
  {
   "cell_type": "markdown",
   "id": "4ca6960b",
   "metadata": {},
   "source": [
    "# Ovo"
   ]
  },
  {
   "cell_type": "code",
   "execution_count": 38,
   "id": "14b614de",
   "metadata": {},
   "outputs": [
    {
     "name": "stderr",
     "output_type": "stream",
     "text": [
      "Training binary classifiers:   0%|          | 0/21 [00:00<?, ?it/s]c:\\Users\\conta\\Desktop\\Stuff\\Universidade\\OML\\Projeto-OML\\CLogDKPd_MGmB.py:40: RuntimeWarning: overflow encountered in exp\n",
      "  return 1 / (1 + np.exp(-x))\n",
      "Training binary classifiers: 100%|██████████| 21/21 [04:05<00:00, 11.67s/it, Par=5 vs 6]"
     ]
    },
    {
     "name": "stdout",
     "output_type": "stream",
     "text": [
      "Accuracy: 0.93\n"
     ]
    },
    {
     "name": "stderr",
     "output_type": "stream",
     "text": [
      "\n"
     ]
    },
    {
     "data": {
      "image/png": "[encoded data removed]",
      "text/plain": [
       "<Figure size 1000x700 with 2 Axes>"
      ]
     },
     "metadata": {},
     "output_type": "display_data"
    }
   ],
   "source": [
    "clf = CLog_OVO(n_iter=5000, batch_size=1, kernel=2, step=0.001, mode='dual', iterative=True)\n",
    "clf.fit(X_train_filtrado, y_train_reindexed)\n",
    "\n",
    "y_pred_reindexed = clf.predict(X_test_filtrado)\n",
    "accuracy = accuracy_score(y_test_reindexed, y_pred_reindexed)\n",
    "print(f\"Accuracy: {accuracy:.2f}\")\n",
    "\n",
    "#Matriz de confusão com rótulos originais\n",
    "cm = confusion_matrix(y_test_reindexed, y_pred_reindexed)\n",
    "\n",
    "#Mapping das classes de volta para os rótulos originais\n",
    "xticks_labels = [labels_originais[i] for i in clf.classes_]\n",
    "yticks_labels = [labels_originais[i] for i in clf.classes_]\n",
    "\n",
    "plt.figure(figsize=(10, 7))\n",
    "sns.heatmap(cm, annot=True, fmt='d', cmap='Blues',\n",
    "            xticklabels=xticks_labels, yticklabels=yticks_labels)\n",
    "plt.xlabel('Predicted (original class)')\n",
    "plt.ylabel('True (original class)')\n",
    "plt.title('Confusion Matrix (com classes filtradas e reindexadas)')\n",
    "plt.show()"
   ]
  },
  {
   "cell_type": "code",
   "execution_count": 39,
   "id": "12b737fa",
   "metadata": {},
   "outputs": [
    {
     "name": "stdout",
     "output_type": "stream",
     "text": [
      "              precision    recall  f1-score   support\n",
      "\n",
      "           1       0.92      0.97      0.94        34\n",
      "           2       0.89      1.00      0.94        33\n",
      "           3       0.90      0.96      0.93        48\n",
      "           5       0.96      0.90      0.93        30\n",
      "           7       0.91      0.97      0.94        33\n",
      "           8       0.97      0.78      0.87        37\n",
      "           9       0.95      0.91      0.93        45\n",
      "\n",
      "    accuracy                           0.93       260\n",
      "   macro avg       0.93      0.93      0.93       260\n",
      "weighted avg       0.93      0.93      0.93       260\n",
      "\n"
     ]
    }
   ],
   "source": [
    "target_names = [str(labels_originais[i]) for i in clf.classes_]\n",
    "\n",
    "print(classification_report(y_test_reindexed, y_pred_reindexed, target_names=target_names))"
   ]
  },
  {
   "cell_type": "markdown",
   "id": "298227db",
   "metadata": {},
   "source": [
    "# Ecoc"
   ]
  },
  {
   "cell_type": "code",
   "execution_count": 40,
   "id": "5a829ffc",
   "metadata": {},
   "outputs": [
    {
     "name": "stdout",
     "output_type": "stream",
     "text": [
      "Será gerado output codes de tamanho 63 bits para dados com 7 classes diferentes e canônicas.\n",
      "Gerando modelo para bit #1 do output code...\n",
      "Gerando modelo para bit #2 do output code...\n",
      "Gerando modelo para bit #3 do output code...\n",
      "Gerando modelo para bit #4 do output code...\n",
      "Gerando modelo para bit #5 do output code...\n",
      "Gerando modelo para bit #6 do output code...\n",
      "Gerando modelo para bit #7 do output code...\n",
      "Gerando modelo para bit #8 do output code...\n",
      "Gerando modelo para bit #9 do output code...\n",
      "Gerando modelo para bit #10 do output code...\n"
     ]
    },
    {
     "name": "stderr",
     "output_type": "stream",
     "text": [
      "c:\\Users\\conta\\Desktop\\Stuff\\Universidade\\OML\\Projeto-OML\\CLogDKPd_MGmB.py:40: RuntimeWarning: overflow encountered in exp\n",
      "  return 1 / (1 + np.exp(-x))\n"
     ]
    },
    {
     "name": "stdout",
     "output_type": "stream",
     "text": [
      "Gerando modelo para bit #11 do output code...\n",
      "Gerando modelo para bit #12 do output code...\n",
      "Gerando modelo para bit #13 do output code...\n",
      "Gerando modelo para bit #14 do output code...\n",
      "Gerando modelo para bit #15 do output code...\n",
      "Gerando modelo para bit #16 do output code...\n",
      "Gerando modelo para bit #17 do output code...\n",
      "Gerando modelo para bit #18 do output code...\n",
      "Gerando modelo para bit #19 do output code...\n",
      "Gerando modelo para bit #20 do output code...\n",
      "Gerando modelo para bit #21 do output code...\n",
      "Gerando modelo para bit #22 do output code...\n",
      "Gerando modelo para bit #23 do output code...\n",
      "Gerando modelo para bit #24 do output code...\n",
      "Gerando modelo para bit #25 do output code...\n",
      "Gerando modelo para bit #26 do output code...\n",
      "Gerando modelo para bit #27 do output code...\n",
      "Gerando modelo para bit #28 do output code...\n",
      "Gerando modelo para bit #29 do output code...\n",
      "Gerando modelo para bit #30 do output code...\n",
      "Gerando modelo para bit #31 do output code...\n",
      "Gerando modelo para bit #32 do output code...\n",
      "Gerando modelo para bit #33 do output code...\n",
      "Gerando modelo para bit #34 do output code...\n",
      "Gerando modelo para bit #35 do output code...\n",
      "Gerando modelo para bit #36 do output code...\n",
      "Gerando modelo para bit #37 do output code...\n",
      "Gerando modelo para bit #38 do output code...\n",
      "Gerando modelo para bit #39 do output code...\n",
      "Gerando modelo para bit #40 do output code...\n",
      "Gerando modelo para bit #41 do output code...\n",
      "Gerando modelo para bit #42 do output code...\n",
      "Gerando modelo para bit #43 do output code...\n",
      "Gerando modelo para bit #44 do output code...\n",
      "Gerando modelo para bit #45 do output code...\n",
      "Gerando modelo para bit #46 do output code...\n",
      "Gerando modelo para bit #47 do output code...\n",
      "Gerando modelo para bit #48 do output code...\n",
      "Gerando modelo para bit #49 do output code...\n",
      "Gerando modelo para bit #50 do output code...\n",
      "Gerando modelo para bit #51 do output code...\n",
      "Gerando modelo para bit #52 do output code...\n",
      "Gerando modelo para bit #53 do output code...\n",
      "Gerando modelo para bit #54 do output code...\n",
      "Gerando modelo para bit #55 do output code...\n",
      "Gerando modelo para bit #56 do output code...\n",
      "Gerando modelo para bit #57 do output code...\n",
      "Gerando modelo para bit #58 do output code...\n",
      "Gerando modelo para bit #59 do output code...\n",
      "Gerando modelo para bit #60 do output code...\n",
      "Gerando modelo para bit #61 do output code...\n",
      "Gerando modelo para bit #62 do output code...\n",
      "Gerando modelo para bit #63 do output code...\n",
      "Acurácia de treino: 0.95\n",
      "Acurácia de teste: 0.90\n"
     ]
    },
    {
     "name": "stderr",
     "output_type": "stream",
     "text": [
      "c:\\Users\\conta\\Desktop\\Stuff\\Universidade\\OML\\Projeto-OML\\CLogDKPd_MGmB.py:40: RuntimeWarning: overflow encountered in exp\n",
      "  return 1 / (1 + np.exp(-x))\n"
     ]
    }
   ],
   "source": [
    "from CLog_MC_Ecoc import CLog_Ecoc\n",
    "\n",
    "model = CLog_Ecoc(kernel=2, step=0.005, n_iter=2000, batch_size=64, iterative=False, mode='dual')\n",
    "\n",
    "model.fit(X_train_filtrado, y_train_reindexed)\n",
    "\n",
    "y_pred_train = model.predict(X_train_filtrado)\n",
    "acc_train = accuracy_score(y_train_reindexed, y_pred_train)\n",
    "print(f\"Acurácia de treino: {acc_train:.2f}\")\n",
    "\n",
    "y_pred_test = model.predict(X_test_filtrado)\n",
    "acc_test = accuracy_score(y_test_reindexed, y_pred_test)\n",
    "print(f\"Acurácia de teste: {acc_test:.2f}\")"
   ]
  },
  {
   "cell_type": "code",
   "execution_count": 41,
   "id": "89f7aea3",
   "metadata": {},
   "outputs": [
    {
     "name": "stdout",
     "output_type": "stream",
     "text": [
      "              precision    recall  f1-score   support\n",
      "\n",
      "    Classe 1       0.80      0.97      0.88        34\n",
      "    Classe 2       0.87      1.00      0.93        33\n",
      "    Classe 3       0.94      0.92      0.93        48\n",
      "    Classe 5       0.93      0.90      0.92        30\n",
      "    Classe 7       0.94      0.97      0.96        33\n",
      "    Classe 8       0.93      0.76      0.84        37\n",
      "    Classe 9       0.93      0.84      0.88        45\n",
      "\n",
      "    accuracy                           0.90       260\n",
      "   macro avg       0.91      0.91      0.90       260\n",
      "weighted avg       0.91      0.90      0.90       260\n",
      "\n"
     ]
    }
   ],
   "source": [
    "#Classification report com nomes originais\n",
    "target_names = [f\"Classe {labels_originais[i]}\" for i in model.classes_]\n",
    "print(classification_report(y_test_reindexed, y_pred_test, target_names=target_names))\n",
    "\n",
    "# === Curvas de aprendizagem ===\n",
    "#for i, errors in enumerate(model.get_errors()):\n",
    "    #plt.figure()\n",
    "    #plt.plot(errors)\n",
    "    #plt.title(f\"Curva de Aprendizado Bit #{i}, Code={model.codes[:, i]}\")\n",
    "    #plt.xlabel(\"Iteração\")\n",
    "    #plt.ylabel(\"Erro médio no batch\")\n",
    "    #plt.grid(True)\n",
    "    #plt.show()"
   ]
  }
 ],
 "metadata": {
  "kernelspec": {
   "display_name": "Python 3",
   "language": "python",
   "name": "python3"
  },
  "language_info": {
   "codemirror_mode": {
    "name": "ipython",
    "version": 3
   },
   "file_extension": ".py",
   "mimetype": "text/x-python",
   "name": "python",
   "nbconvert_exporter": "python",
   "pygments_lexer": "ipython3",
   "version": "3.11.9"
  }
 },
 "nbformat": 4,
 "nbformat_minor": 5
}
